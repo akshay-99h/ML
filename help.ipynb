{
 "metadata": {
  "orig_nbformat": 4,
  "kernelspec": {
   "name": "python3",
   "display_name": "Python 3",
   "language": "python"
  }
 },
 "nbformat": 4,
 "nbformat_minor": 2,
 "cells": [
  {
   "source": [
    "## For reading a csv file:\n",
    "\n",
    "import pandas as pd\n",
    "\n",
    "dataset = pd.read_csv(\"absolute-url/fileName.csv\")"
   ],
   "cell_type": "markdown",
   "metadata": {}
  },
  {
   "source": [
    "## To know whether any cell value is empty or not"
   ],
   "cell_type": "markdown",
   "metadata": {}
  },
  {
   "source": [
    "The imported dataset contains null values."
   ],
   "cell_type": "markdown",
   "metadata": {}
  },
  {
   "source": [
    "data.isnull().values.any()"
   ],
   "cell_type": "markdown",
   "metadata": {}
  },
  {
   "source": [
    "### If the above gives true, then..."
   ],
   "cell_type": "markdown",
   "metadata": {}
  },
  {
   "source": [
    "dataset\\['field-name'\\].fillna((dataset\\['field-name'\\].mean()), inplace=True)\n",
    "\n",
    "### *The above will substitute the null values with average of all datasets for that field*"
   ],
   "cell_type": "markdown",
   "metadata": {}
  },
  {
   "source": [
    "## For slicing datasets\n",
    "\n",
    "variable1=dataset.iloc\\[ row-form : row-to , col-form : col-to \\]\n",
    "\n",
    "## Just knowing the name of the dataset-column will also work\n",
    "\n",
    "### *use the following*\n",
    "\n",
    "new_label= dataset.iloc\\[ : , dataset.columns == 'desired column'\\]"
   ],
   "cell_type": "markdown",
   "metadata": {}
  },
  {
   "source": [
    "## For concatanation of two datasets\n",
    "\n",
    "dataset = pd.concat(\\[features, labels\\], axis=1)\n",
    "\n",
    "### $features\\ and\\ labels\\ are\\ the\\ fields\\ and\\ axis$\n",
    "### $is\\ 0\\ if\\ adding\\ row\\ wise\\ and\\ 1\\ if\\ column\\ wise$"
   ],
   "cell_type": "markdown",
   "metadata": {}
  },
  {
   "source": [
    "#### *$If\\ you\\ get\\ categorical\\ dataset\\ and\\ the\\ range$*\n",
    "#### *$of\\ values\\ is\\ defined\\ and\\ is\\ in$*\n",
    "*$the\\ form\\ of\\ strings,\\ then$*\n",
    "\n",
    "*You can either use:*\n",
    "* One Hot Encoder\n",
    "* Label Encoder"
   ],
   "cell_type": "markdown",
   "metadata": {}
  },
  {
   "source": [
    "## *Label Encoder*\n",
    "\n",
    "from sklearn.preprocessing import LabelEncoder\n",
    "\n",
    "lb= LabelEncoder()\n",
    "\n",
    "dataset\\['Field-to-be-changed-from-char-to-number'\\] = lb.fit_transform(dataset\\['Field-to-be-changed-from-char-to-number'\\])"
   ],
   "cell_type": "markdown",
   "metadata": {}
  },
  {
   "source": [
    "## To check the count of data cells\n",
    "### *for a given index*\n",
    "### *after label encoding*\n",
    "\n",
    "fieldName=dataset\\[dataset\\['fieldName'\\] == indexOfRequiredDatasetType\\]\n",
    "\n",
    "print(fieldName.shape)\n",
    "\n",
    "*for printing the count*"
   ],
   "cell_type": "markdown",
   "metadata": {}
  },
  {
   "source": [
    "## To count the number of unique values,\n",
    "*dataset.field.value_counts()*"
   ],
   "cell_type": "markdown",
   "metadata": {}
  }
 ]
}